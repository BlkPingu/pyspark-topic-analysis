{
 "metadata": {
  "language_info": {
   "codemirror_mode": {
    "name": "ipython",
    "version": 3
   },
   "file_extension": ".py",
   "mimetype": "text/x-python",
   "name": "python",
   "nbconvert_exporter": "python",
   "pygments_lexer": "ipython3",
   "version": "3.9.5"
  },
  "orig_nbformat": 2,
  "kernelspec": {
   "name": "python3",
   "display_name": "Python 3",
   "language": "python"
  }
 },
 "nbformat": 4,
 "nbformat_minor": 2,
 "cells": [
  {
   "cell_type": "code",
   "execution_count": null,
   "metadata": {},
   "outputs": [],
   "source": [
    "# importing some libraries\n",
    "\n",
    "from pyspark.context import SparkContext\n",
    "import pandas as pd\n",
    "import pyspark\n",
    "from pyspark.sql import SQLContext"
   ]
  },
  {
   "cell_type": "code",
   "execution_count": 24,
   "metadata": {},
   "outputs": [
    {
     "output_type": "execute_result",
     "data": {
      "text/plain": [
       "                                                 Name  \\\n",
       "0               Captains Courageous - Rudyard Kipling   \n",
       "1                               Dracula - Bram Stoker   \n",
       "2   Three Men in a Boat (to Say Nothing of The Dog...   \n",
       "3                         Bush Boys, The - Mayne Reid   \n",
       "4                       Macbeth - William Shakespeare   \n",
       "5       Coral Island, The - Robert Michael Ballantyne   \n",
       "6            Study In Scarlet, A - Arthur Conan Doyle   \n",
       "7            Valley of Fear, The - Arthur Conan Doyle   \n",
       "8   Pirate of the Mediterranean, The - W.H.G. King...   \n",
       "9                Lost World, The - Arthur Conan Doyle   \n",
       "10                Call of the Wild, The - Jack London   \n",
       "11                       Jane Eyre - Charlotte Bronte   \n",
       "12                King's Own, The - Frederick Marryat   \n",
       "13          Through the Looking-Glass - Lewis Carroll   \n",
       "14               Sherlock Holmes - Arthur Conan Doyle   \n",
       "15                                 Emma - Jane Austen   \n",
       "16   Alice's Adventures in Wonderland - Lewis Carroll   \n",
       "17                       Iron Heel, The - Jack London   \n",
       "18   Adventures of Huckleberry Finn, The - Mark Twain   \n",
       "19  Adventures of Sherlock Holmes, The - Arthur Co...   \n",
       "20                  His Last Bow - Arthur Conan Doyle   \n",
       "21                  Pride and Prejudice - Jane Austen   \n",
       "22  Connecticut Yankee in King Arthur's Court, A -...   \n",
       "23  Return of Sherlock Holmes, The - Arthur Conan ...   \n",
       "24                   In Freedom's Cause - G. A. Henty   \n",
       "25            Scalp Hunters, The - Captain Mayne Reid   \n",
       "26     Sign of the Four, The - Sir Arthur Conan Doyle   \n",
       "27              Phantom Ship, The - Frederick Marryat   \n",
       "28                     Oliver Twist - Charles Dickens   \n",
       "29  Frankenstein, or the Modern Prometheus - Mary ...   \n",
       "30      Master of Ballantrae - Robert Louis Stevenson   \n",
       "31  Strange Case of Dr. Jekyll and Mr. Hyde, The -...   \n",
       "32  Adventures of Captain Horn, The - Frank R. Sto...   \n",
       "33                             2012 20 eink - Unknown   \n",
       "34            Deerslayer, The - James Fenimore Cooper   \n",
       "35                        Essays, The - Francis Bacon   \n",
       "36                   Peter Pan - James Matthew Barrie   \n",
       "37                       Walden - Henry David Thoreau   \n",
       "38  House of the Seven Gables, The - Nathaniel Haw...   \n",
       "39    Happy Prince and Other Tales, The - Oscar Wilde   \n",
       "40                          Martin Eden - Jack London   \n",
       "41         Adventures of Tom Sawyer, The - Mark Twain   \n",
       "42     Pirate of the Caribbees, A - Harry Collingwood   \n",
       "43             Romeo and Juliet - William Shakespeare   \n",
       "44  Memoirs of Sherlock Holmes, The - Arthur Conan...   \n",
       "45                        Paradise lost - John Milton   \n",
       "46                        Sea-Wolf, The - Jack London   \n",
       "47        Headless Horseman, The - Captain Mayne Reid   \n",
       "48                          Before Adam - Jack London   \n",
       "49          Hunting of the Snark, The - Lewis Carroll   \n",
       "50  Case-Book of Sherlock Holmes, The - Arthur Con...   \n",
       "51  Gulliver's Travelsinto Several Remote Nations ...   \n",
       "\n",
       "                                                 Text  \n",
       "0   Rudyard KiplingCAPTAINS COURAGEOUSCHAPTER IThe...  \n",
       "1   Bram StokerDraculaPrefaceHow these papers have...  \n",
       "2   Jerome K. JeromeTHREE MEN IN A BOAT(TO SAY NOT...  \n",
       "3   Captain Mayne ReidThe Bush BoysChapter One.The...  \n",
       "4   William ShakespeareMacbethAct I, Scene 1A dese...  \n",
       "5   PrefaceI was a boy when I went through the won...  \n",
       "6   Arthur Conan DoyleA STUDY IN SCARLETPART I(Bei...  \n",
       "7   Sir Arthur Conan DoyleTHE VALLEY OF FEARPart I...  \n",
       "8   W.H.G. KingstonThe Pirate of the Mediterranean...  \n",
       "9   Sir Arthur Conan DoyleTHE LOST WORLDI have wro...  \n",
       "10  Jack LondonTHE CALL OF THE WILDChapter I. Into...  \n",
       "11  PREFACEApreface to the first edition of “Jane ...  \n",
       "12  Frederick MarryatThe King's OwnChapter One.How...  \n",
       "13  Lewis CarrollTHROUGH THE LOOKING-GLASSCHAPTER ...  \n",
       "14  Sir Arthur Conan DoyleSHERLOCK HOLMESA STUDY I...  \n",
       "15  Jane AustenEMMAVOLUME ICHAPTER IEmma Woodhouse...  \n",
       "16  Lewis CarrollALICE’S ADVENTURES IN WONDERLANDC...  \n",
       "17  Jack LondonThe Iron Heel\"At first, this Earth,...  \n",
       "18  Mark TwainTHE ADVENTURES OF HUCKLEBERRY FINN(T...  \n",
       "19  Sir Arthur Conan DoyleTHE ADVENTURES OF SHERLO...  \n",
       "20  Sir Arthur Conan DoyleHIS LAST BOWI. The Adven...  \n",
       "21  Jane AustenPRIDE AND PREJUDICEVolume OneCHAPTE...  \n",
       "22  MARK TWAINA CONNECTICUT YANKEEIN KING ARTHUR'S...  \n",
       "23  Sir Arthur Conan DoyleTHE RETURN OF SHERLOCK H...  \n",
       "24  G. A. HentyIN FREEDOM’S CAUSEPrefaceMY DEAR LA...  \n",
       "25  Captain Mayne ReidTHE SCALP HUNTERSChapter One...  \n",
       "26  Sir Arthur Conan DoyleThe Sign of the FourChap...  \n",
       "27  Frederick MarryatTHE PHANTOM SHIPChapter OneAb...  \n",
       "28  Charles DickensOLIVER TWISTList of CharactersO...  \n",
       "29  Mary Wollstonecraft ShelleyFRANKENSTEIN, OR TH...  \n",
       "30  Robert Louis StevensonThe Master of Ballantrae...  \n",
       "31  ROBERT LOUIS STEVENSONTHE STRANGE CASE OF DR. ...  \n",
       "32  Frank Richard StocktonTHE ADVENTURES OF CAPTAI...  \n",
       "33  Paranoik Team в составе:Николай ТурубарВиола П...  \n",
       "34  James Fenimore CooperTHE DEERSLAYERChapter I“T...  \n",
       "35  Francis BaconTHE ESSAYS OR COUNSELS,CIVIL AND ...  \n",
       "36  James Matthew BarriePETER PANChapter 1. PETER ...  \n",
       "37  Henry David ThoreauWALDENEconomyWhen I wrote t...  \n",
       "38  Introductory Note.In September of the year dur...  \n",
       "39  Oscar WildeThe Happy Prince and Other TalesTHE...  \n",
       "40  Jack LondonMARTIN EDENCHAPTER IThe one opened ...  \n",
       "41  Mark TwainTHE ADVENTURES OF TOM SAWYERIllustra...  \n",
       "42  Harry CollingwoodA Pirate of the CaribbeesChap...  \n",
       "43  William ShakespeareRomeo and JulietPrologueCho...  \n",
       "44  Sir Arthur Conan DoyleTHE MEMOIRS OF SHERLOCK ...  \n",
       "45  John MiltonPARADISE LOSTBOOK IOf Mans First Di...  \n",
       "46  Jack LondonThe Sea-WolfCHAPTER IIscarcely know...  \n",
       "47  Captain Mayne ReidTHE HEADLESS HORSEMANA Stran...  \n",
       "48  Jack LondonBEFORE ADAM\"These are our ancestors...  \n",
       "49  Lewis CarrollTHE HUNTING OF THE SNARKPREFACEIf...  \n",
       "50  Sir Arthur Conan DoyleTHE CASE-BOOK OF SHERLOC...  \n",
       "51  Jonathan SwiftGULLIVER’S TRAVELSinto Several R...  "
      ],
      "text/html": "<div>\n<style scoped>\n    .dataframe tbody tr th:only-of-type {\n        vertical-align: middle;\n    }\n\n    .dataframe tbody tr th {\n        vertical-align: top;\n    }\n\n    .dataframe thead tr th {\n        text-align: left;\n    }\n</style>\n<table border=\"1\" class=\"dataframe\">\n  <thead>\n    <tr>\n      <th></th>\n      <th>Name</th>\n      <th>Text</th>\n    </tr>\n  </thead>\n  <tbody>\n    <tr>\n      <th>0</th>\n      <td>Captains Courageous - Rudyard Kipling</td>\n      <td>Rudyard KiplingCAPTAINS COURAGEOUSCHAPTER IThe...</td>\n    </tr>\n    <tr>\n      <th>1</th>\n      <td>Dracula - Bram Stoker</td>\n      <td>Bram StokerDraculaPrefaceHow these papers have...</td>\n    </tr>\n    <tr>\n      <th>2</th>\n      <td>Three Men in a Boat (to Say Nothing of The Dog...</td>\n      <td>Jerome K. JeromeTHREE MEN IN A BOAT(TO SAY NOT...</td>\n    </tr>\n    <tr>\n      <th>3</th>\n      <td>Bush Boys, The - Mayne Reid</td>\n      <td>Captain Mayne ReidThe Bush BoysChapter One.The...</td>\n    </tr>\n    <tr>\n      <th>4</th>\n      <td>Macbeth - William Shakespeare</td>\n      <td>William ShakespeareMacbethAct I, Scene 1A dese...</td>\n    </tr>\n    <tr>\n      <th>5</th>\n      <td>Coral Island, The - Robert Michael Ballantyne</td>\n      <td>PrefaceI was a boy when I went through the won...</td>\n    </tr>\n    <tr>\n      <th>6</th>\n      <td>Study In Scarlet, A - Arthur Conan Doyle</td>\n      <td>Arthur Conan DoyleA STUDY IN SCARLETPART I(Bei...</td>\n    </tr>\n    <tr>\n      <th>7</th>\n      <td>Valley of Fear, The - Arthur Conan Doyle</td>\n      <td>Sir Arthur Conan DoyleTHE VALLEY OF FEARPart I...</td>\n    </tr>\n    <tr>\n      <th>8</th>\n      <td>Pirate of the Mediterranean, The - W.H.G. King...</td>\n      <td>W.H.G. KingstonThe Pirate of the Mediterranean...</td>\n    </tr>\n    <tr>\n      <th>9</th>\n      <td>Lost World, The - Arthur Conan Doyle</td>\n      <td>Sir Arthur Conan DoyleTHE LOST WORLDI have wro...</td>\n    </tr>\n    <tr>\n      <th>10</th>\n      <td>Call of the Wild, The - Jack London</td>\n      <td>Jack LondonTHE CALL OF THE WILDChapter I. Into...</td>\n    </tr>\n    <tr>\n      <th>11</th>\n      <td>Jane Eyre - Charlotte Bronte</td>\n      <td>PREFACEApreface to the first edition of “Jane ...</td>\n    </tr>\n    <tr>\n      <th>12</th>\n      <td>King's Own, The - Frederick Marryat</td>\n      <td>Frederick MarryatThe King's OwnChapter One.How...</td>\n    </tr>\n    <tr>\n      <th>13</th>\n      <td>Through the Looking-Glass - Lewis Carroll</td>\n      <td>Lewis CarrollTHROUGH THE LOOKING-GLASSCHAPTER ...</td>\n    </tr>\n    <tr>\n      <th>14</th>\n      <td>Sherlock Holmes - Arthur Conan Doyle</td>\n      <td>Sir Arthur Conan DoyleSHERLOCK HOLMESA STUDY I...</td>\n    </tr>\n    <tr>\n      <th>15</th>\n      <td>Emma - Jane Austen</td>\n      <td>Jane AustenEMMAVOLUME ICHAPTER IEmma Woodhouse...</td>\n    </tr>\n    <tr>\n      <th>16</th>\n      <td>Alice's Adventures in Wonderland - Lewis Carroll</td>\n      <td>Lewis CarrollALICE’S ADVENTURES IN WONDERLANDC...</td>\n    </tr>\n    <tr>\n      <th>17</th>\n      <td>Iron Heel, The - Jack London</td>\n      <td>Jack LondonThe Iron Heel\"At first, this Earth,...</td>\n    </tr>\n    <tr>\n      <th>18</th>\n      <td>Adventures of Huckleberry Finn, The - Mark Twain</td>\n      <td>Mark TwainTHE ADVENTURES OF HUCKLEBERRY FINN(T...</td>\n    </tr>\n    <tr>\n      <th>19</th>\n      <td>Adventures of Sherlock Holmes, The - Arthur Co...</td>\n      <td>Sir Arthur Conan DoyleTHE ADVENTURES OF SHERLO...</td>\n    </tr>\n    <tr>\n      <th>20</th>\n      <td>His Last Bow - Arthur Conan Doyle</td>\n      <td>Sir Arthur Conan DoyleHIS LAST BOWI. The Adven...</td>\n    </tr>\n    <tr>\n      <th>21</th>\n      <td>Pride and Prejudice - Jane Austen</td>\n      <td>Jane AustenPRIDE AND PREJUDICEVolume OneCHAPTE...</td>\n    </tr>\n    <tr>\n      <th>22</th>\n      <td>Connecticut Yankee in King Arthur's Court, A -...</td>\n      <td>MARK TWAINA CONNECTICUT YANKEEIN KING ARTHUR'S...</td>\n    </tr>\n    <tr>\n      <th>23</th>\n      <td>Return of Sherlock Holmes, The - Arthur Conan ...</td>\n      <td>Sir Arthur Conan DoyleTHE RETURN OF SHERLOCK H...</td>\n    </tr>\n    <tr>\n      <th>24</th>\n      <td>In Freedom's Cause - G. A. Henty</td>\n      <td>G. A. HentyIN FREEDOM’S CAUSEPrefaceMY DEAR LA...</td>\n    </tr>\n    <tr>\n      <th>25</th>\n      <td>Scalp Hunters, The - Captain Mayne Reid</td>\n      <td>Captain Mayne ReidTHE SCALP HUNTERSChapter One...</td>\n    </tr>\n    <tr>\n      <th>26</th>\n      <td>Sign of the Four, The - Sir Arthur Conan Doyle</td>\n      <td>Sir Arthur Conan DoyleThe Sign of the FourChap...</td>\n    </tr>\n    <tr>\n      <th>27</th>\n      <td>Phantom Ship, The - Frederick Marryat</td>\n      <td>Frederick MarryatTHE PHANTOM SHIPChapter OneAb...</td>\n    </tr>\n    <tr>\n      <th>28</th>\n      <td>Oliver Twist - Charles Dickens</td>\n      <td>Charles DickensOLIVER TWISTList of CharactersO...</td>\n    </tr>\n    <tr>\n      <th>29</th>\n      <td>Frankenstein, or the Modern Prometheus - Mary ...</td>\n      <td>Mary Wollstonecraft ShelleyFRANKENSTEIN, OR TH...</td>\n    </tr>\n    <tr>\n      <th>30</th>\n      <td>Master of Ballantrae - Robert Louis Stevenson</td>\n      <td>Robert Louis StevensonThe Master of Ballantrae...</td>\n    </tr>\n    <tr>\n      <th>31</th>\n      <td>Strange Case of Dr. Jekyll and Mr. Hyde, The -...</td>\n      <td>ROBERT LOUIS STEVENSONTHE STRANGE CASE OF DR. ...</td>\n    </tr>\n    <tr>\n      <th>32</th>\n      <td>Adventures of Captain Horn, The - Frank R. Sto...</td>\n      <td>Frank Richard StocktonTHE ADVENTURES OF CAPTAI...</td>\n    </tr>\n    <tr>\n      <th>33</th>\n      <td>2012 20 eink - Unknown</td>\n      <td>Paranoik Team в составе:Николай ТурубарВиола П...</td>\n    </tr>\n    <tr>\n      <th>34</th>\n      <td>Deerslayer, The - James Fenimore Cooper</td>\n      <td>James Fenimore CooperTHE DEERSLAYERChapter I“T...</td>\n    </tr>\n    <tr>\n      <th>35</th>\n      <td>Essays, The - Francis Bacon</td>\n      <td>Francis BaconTHE ESSAYS OR COUNSELS,CIVIL AND ...</td>\n    </tr>\n    <tr>\n      <th>36</th>\n      <td>Peter Pan - James Matthew Barrie</td>\n      <td>James Matthew BarriePETER PANChapter 1. PETER ...</td>\n    </tr>\n    <tr>\n      <th>37</th>\n      <td>Walden - Henry David Thoreau</td>\n      <td>Henry David ThoreauWALDENEconomyWhen I wrote t...</td>\n    </tr>\n    <tr>\n      <th>38</th>\n      <td>House of the Seven Gables, The - Nathaniel Haw...</td>\n      <td>Introductory Note.In September of the year dur...</td>\n    </tr>\n    <tr>\n      <th>39</th>\n      <td>Happy Prince and Other Tales, The - Oscar Wilde</td>\n      <td>Oscar WildeThe Happy Prince and Other TalesTHE...</td>\n    </tr>\n    <tr>\n      <th>40</th>\n      <td>Martin Eden - Jack London</td>\n      <td>Jack LondonMARTIN EDENCHAPTER IThe one opened ...</td>\n    </tr>\n    <tr>\n      <th>41</th>\n      <td>Adventures of Tom Sawyer, The - Mark Twain</td>\n      <td>Mark TwainTHE ADVENTURES OF TOM SAWYERIllustra...</td>\n    </tr>\n    <tr>\n      <th>42</th>\n      <td>Pirate of the Caribbees, A - Harry Collingwood</td>\n      <td>Harry CollingwoodA Pirate of the CaribbeesChap...</td>\n    </tr>\n    <tr>\n      <th>43</th>\n      <td>Romeo and Juliet - William Shakespeare</td>\n      <td>William ShakespeareRomeo and JulietPrologueCho...</td>\n    </tr>\n    <tr>\n      <th>44</th>\n      <td>Memoirs of Sherlock Holmes, The - Arthur Conan...</td>\n      <td>Sir Arthur Conan DoyleTHE MEMOIRS OF SHERLOCK ...</td>\n    </tr>\n    <tr>\n      <th>45</th>\n      <td>Paradise lost - John Milton</td>\n      <td>John MiltonPARADISE LOSTBOOK IOf Mans First Di...</td>\n    </tr>\n    <tr>\n      <th>46</th>\n      <td>Sea-Wolf, The - Jack London</td>\n      <td>Jack LondonThe Sea-WolfCHAPTER IIscarcely know...</td>\n    </tr>\n    <tr>\n      <th>47</th>\n      <td>Headless Horseman, The - Captain Mayne Reid</td>\n      <td>Captain Mayne ReidTHE HEADLESS HORSEMANA Stran...</td>\n    </tr>\n    <tr>\n      <th>48</th>\n      <td>Before Adam - Jack London</td>\n      <td>Jack LondonBEFORE ADAM\"These are our ancestors...</td>\n    </tr>\n    <tr>\n      <th>49</th>\n      <td>Hunting of the Snark, The - Lewis Carroll</td>\n      <td>Lewis CarrollTHE HUNTING OF THE SNARKPREFACEIf...</td>\n    </tr>\n    <tr>\n      <th>50</th>\n      <td>Case-Book of Sherlock Holmes, The - Arthur Con...</td>\n      <td>Sir Arthur Conan DoyleTHE CASE-BOOK OF SHERLOC...</td>\n    </tr>\n    <tr>\n      <th>51</th>\n      <td>Gulliver's Travelsinto Several Remote Nations ...</td>\n      <td>Jonathan SwiftGULLIVER’S TRAVELSinto Several R...</td>\n    </tr>\n  </tbody>\n</table>\n</div>"
     },
     "metadata": {},
     "execution_count": 24
    }
   ],
   "source": [
    "import glob\n",
    "\n",
    "books = []\n",
    "\n",
    "path = '../../data/texts/English/'\n",
    "\n",
    "for filepath in glob.glob(os.path.join(path, '*.txt')):\n",
    "    with open(os.path.join(os.getcwd(), filepath), 'r') as file:\n",
    "        data = file.read().replace('\\n', '')\n",
    "        filename = filepath.replace(path, \"\", 1)\n",
    "        name = filename.replace(\".txt\", \"\", 1)\n",
    "        books.append((name, data))\n",
    "\n",
    "df = pd.DataFrame(books, columns =[['Name','Text']])\n",
    "\n",
    "df"
   ]
  },
  {
   "source": [
    "# check if spark context is defined\n",
    "sc = SparkContext('local').getOrCreate()\n",
    "print(sc.version)"
   ],
   "cell_type": "code",
   "metadata": {},
   "execution_count": 5,
   "outputs": [
    {
     "output_type": "stream",
     "name": "stdout",
     "text": [
      "3.1.1\n"
     ]
    }
   ]
  },
  {
   "cell_type": "code",
   "execution_count": 25,
   "metadata": {},
   "outputs": [
    {
     "output_type": "error",
     "ename": "AnalysisException",
     "evalue": "Path does not exist: file:/Users/Tobias/Documents/Studium/Master/Semester/AE_Dabrowski/beleg/project/src/Womens Clothing E-Commerce Reviews.csv",
     "traceback": [
      "\u001b[0;31m---------------------------------------------------------------------------\u001b[0m",
      "\u001b[0;31mAnalysisException\u001b[0m                         Traceback (most recent call last)",
      "\u001b[0;32m<ipython-input-25-6bd0fb4a5525>\u001b[0m in \u001b[0;36m<module>\u001b[0;34m\u001b[0m\n\u001b[1;32m      9\u001b[0m \u001b[0;32mfrom\u001b[0m \u001b[0mpyspark\u001b[0m\u001b[0;34m.\u001b[0m\u001b[0mmllib\u001b[0m\u001b[0;34m.\u001b[0m\u001b[0mclustering\u001b[0m \u001b[0;32mimport\u001b[0m \u001b[0mLDA\u001b[0m\u001b[0;34m,\u001b[0m \u001b[0mLDAModel\u001b[0m\u001b[0;34m\u001b[0m\u001b[0;34m\u001b[0m\u001b[0m\n\u001b[1;32m     10\u001b[0m \u001b[0;31m# reading the data\u001b[0m\u001b[0;34m\u001b[0m\u001b[0;34m\u001b[0m\u001b[0;34m\u001b[0m\u001b[0m\n\u001b[0;32m---> 11\u001b[0;31m \u001b[0mdata\u001b[0m \u001b[0;34m=\u001b[0m \u001b[0msqlContext\u001b[0m\u001b[0;34m.\u001b[0m\u001b[0mread\u001b[0m\u001b[0;34m.\u001b[0m\u001b[0mformat\u001b[0m\u001b[0;34m(\u001b[0m\u001b[0;34m\"csv\"\u001b[0m\u001b[0;34m)\u001b[0m\u001b[0;31m \u001b[0m\u001b[0;31m\\\u001b[0m\u001b[0;34m\u001b[0m\u001b[0;34m\u001b[0m\u001b[0m\n\u001b[0m\u001b[1;32m     12\u001b[0m    \u001b[0;34m.\u001b[0m\u001b[0moptions\u001b[0m\u001b[0;34m(\u001b[0m\u001b[0mheader\u001b[0m\u001b[0;34m=\u001b[0m\u001b[0;34m'true'\u001b[0m\u001b[0;34m,\u001b[0m \u001b[0minferschema\u001b[0m\u001b[0;34m=\u001b[0m\u001b[0;34m'true'\u001b[0m\u001b[0;34m)\u001b[0m\u001b[0;31m \u001b[0m\u001b[0;31m\\\u001b[0m\u001b[0;34m\u001b[0m\u001b[0;34m\u001b[0m\u001b[0m\n\u001b[1;32m     13\u001b[0m    \u001b[0;34m.\u001b[0m\u001b[0mload\u001b[0m\u001b[0;34m(\u001b[0m\u001b[0mos\u001b[0m\u001b[0;34m.\u001b[0m\u001b[0mpath\u001b[0m\u001b[0;34m.\u001b[0m\u001b[0mrealpath\u001b[0m\u001b[0;34m(\u001b[0m\u001b[0;34m\"Womens Clothing E-Commerce Reviews.csv\"\u001b[0m\u001b[0;34m)\u001b[0m\u001b[0;34m)\u001b[0m\u001b[0;34m\u001b[0m\u001b[0;34m\u001b[0m\u001b[0m\n",
      "\u001b[0;32m/usr/local/Cellar/apache-spark/3.1.1/libexec/python/pyspark/sql/readwriter.py\u001b[0m in \u001b[0;36mload\u001b[0;34m(self, path, format, schema, **options)\u001b[0m\n\u001b[1;32m    202\u001b[0m         \u001b[0mself\u001b[0m\u001b[0;34m.\u001b[0m\u001b[0moptions\u001b[0m\u001b[0;34m(\u001b[0m\u001b[0;34m**\u001b[0m\u001b[0moptions\u001b[0m\u001b[0;34m)\u001b[0m\u001b[0;34m\u001b[0m\u001b[0;34m\u001b[0m\u001b[0m\n\u001b[1;32m    203\u001b[0m         \u001b[0;32mif\u001b[0m \u001b[0misinstance\u001b[0m\u001b[0;34m(\u001b[0m\u001b[0mpath\u001b[0m\u001b[0;34m,\u001b[0m \u001b[0mstr\u001b[0m\u001b[0;34m)\u001b[0m\u001b[0;34m:\u001b[0m\u001b[0;34m\u001b[0m\u001b[0;34m\u001b[0m\u001b[0m\n\u001b[0;32m--> 204\u001b[0;31m             \u001b[0;32mreturn\u001b[0m \u001b[0mself\u001b[0m\u001b[0;34m.\u001b[0m\u001b[0m_df\u001b[0m\u001b[0;34m(\u001b[0m\u001b[0mself\u001b[0m\u001b[0;34m.\u001b[0m\u001b[0m_jreader\u001b[0m\u001b[0;34m.\u001b[0m\u001b[0mload\u001b[0m\u001b[0;34m(\u001b[0m\u001b[0mpath\u001b[0m\u001b[0;34m)\u001b[0m\u001b[0;34m)\u001b[0m\u001b[0;34m\u001b[0m\u001b[0;34m\u001b[0m\u001b[0m\n\u001b[0m\u001b[1;32m    205\u001b[0m         \u001b[0;32melif\u001b[0m \u001b[0mpath\u001b[0m \u001b[0;32mis\u001b[0m \u001b[0;32mnot\u001b[0m \u001b[0;32mNone\u001b[0m\u001b[0;34m:\u001b[0m\u001b[0;34m\u001b[0m\u001b[0;34m\u001b[0m\u001b[0m\n\u001b[1;32m    206\u001b[0m             \u001b[0;32mif\u001b[0m \u001b[0mtype\u001b[0m\u001b[0;34m(\u001b[0m\u001b[0mpath\u001b[0m\u001b[0;34m)\u001b[0m \u001b[0;34m!=\u001b[0m \u001b[0mlist\u001b[0m\u001b[0;34m:\u001b[0m\u001b[0;34m\u001b[0m\u001b[0;34m\u001b[0m\u001b[0m\n",
      "\u001b[0;32m/usr/local/lib/python3.9/site-packages/py4j/java_gateway.py\u001b[0m in \u001b[0;36m__call__\u001b[0;34m(self, *args)\u001b[0m\n\u001b[1;32m   1307\u001b[0m \u001b[0;34m\u001b[0m\u001b[0m\n\u001b[1;32m   1308\u001b[0m         \u001b[0manswer\u001b[0m \u001b[0;34m=\u001b[0m \u001b[0mself\u001b[0m\u001b[0;34m.\u001b[0m\u001b[0mgateway_client\u001b[0m\u001b[0;34m.\u001b[0m\u001b[0msend_command\u001b[0m\u001b[0;34m(\u001b[0m\u001b[0mcommand\u001b[0m\u001b[0;34m)\u001b[0m\u001b[0;34m\u001b[0m\u001b[0;34m\u001b[0m\u001b[0m\n\u001b[0;32m-> 1309\u001b[0;31m         return_value = get_return_value(\n\u001b[0m\u001b[1;32m   1310\u001b[0m             answer, self.gateway_client, self.target_id, self.name)\n\u001b[1;32m   1311\u001b[0m \u001b[0;34m\u001b[0m\u001b[0m\n",
      "\u001b[0;32m/usr/local/Cellar/apache-spark/3.1.1/libexec/python/pyspark/sql/utils.py\u001b[0m in \u001b[0;36mdeco\u001b[0;34m(*a, **kw)\u001b[0m\n\u001b[1;32m    115\u001b[0m                 \u001b[0;31m# Hide where the exception came from that shows a non-Pythonic\u001b[0m\u001b[0;34m\u001b[0m\u001b[0;34m\u001b[0m\u001b[0;34m\u001b[0m\u001b[0m\n\u001b[1;32m    116\u001b[0m                 \u001b[0;31m# JVM exception message.\u001b[0m\u001b[0;34m\u001b[0m\u001b[0;34m\u001b[0m\u001b[0;34m\u001b[0m\u001b[0m\n\u001b[0;32m--> 117\u001b[0;31m                 \u001b[0;32mraise\u001b[0m \u001b[0mconverted\u001b[0m \u001b[0;32mfrom\u001b[0m \u001b[0;32mNone\u001b[0m\u001b[0;34m\u001b[0m\u001b[0;34m\u001b[0m\u001b[0m\n\u001b[0m\u001b[1;32m    118\u001b[0m             \u001b[0;32melse\u001b[0m\u001b[0;34m:\u001b[0m\u001b[0;34m\u001b[0m\u001b[0;34m\u001b[0m\u001b[0m\n\u001b[1;32m    119\u001b[0m                 \u001b[0;32mraise\u001b[0m\u001b[0;34m\u001b[0m\u001b[0;34m\u001b[0m\u001b[0m\n",
      "\u001b[0;31mAnalysisException\u001b[0m: Path does not exist: file:/Users/Tobias/Documents/Studium/Master/Semester/AE_Dabrowski/beleg/project/src/Womens Clothing E-Commerce Reviews.csv"
     ]
    }
   ],
   "source": [
    "\n",
    "sqlContext = SQLContext(sc)\n",
    "# stuff we'll need for text processing\n",
    "from nltk.corpus import stopwords\n",
    "import re as re\n",
    "from pyspark.ml.feature import CountVectorizer , IDF\n",
    "# stuff we'll need for building the model\n",
    "\n",
    "from pyspark.mllib.linalg import Vector, Vectors\n",
    "from pyspark.mllib.clustering import LDA, LDAModel\n",
    "# reading the data\n",
    "data = sqlContext.read.format(\"csv\") \\\n",
    "   .options(header='true', inferschema='true') \\\n",
    "   .load(os.path.realpath(\"Womens Clothing E-Commerce Reviews.csv\"))"
   ]
  },
  {
   "cell_type": "code",
   "execution_count": null,
   "metadata": {},
   "outputs": [],
   "source": []
  }
 ]
}